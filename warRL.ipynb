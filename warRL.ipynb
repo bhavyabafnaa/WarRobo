{
 "cells": [
  {
   "cell_type": "code",
   "execution_count": null,
   "id": "f6e60fa4",
   "metadata": {},
   "outputs": [],
   "source": [
    "\n",
    "%matplotlib inline\n",
    "import numpy as np\n",
    "import matplotlib.pyplot as plt\n",
    "plt.rcParams.update({'font.size': 12})\n",
    "plt.rcParams['figure.dpi'] = 300\n"
   ]
  },
  {
   "cell_type": "code",
   "execution_count": null,
   "id": "47a7d9b9",
   "metadata": {},
   "outputs": [],
   "source": [
    "\n",
    "def visualize_paths_on_benchmark_maps(env, policy, map_folder=\"maps/\", num_maps=4, grid_cols=2, save=False):\n",
    "    grid_rows = int(np.ceil(num_maps / grid_cols))\n",
    "    fig, axs = plt.subplots(grid_rows, grid_cols, figsize=(grid_cols * 4, grid_rows * 4), dpi=300)\n",
    "    if grid_rows == 1:\n",
    "        axs = np.array([axs])\n",
    "    axs = axs.flatten()\n",
    "    for idx in range(num_maps):\n",
    "        ax = axs[idx]\n",
    "        env.load_map(f\"{map_folder}/map_{idx}.npy\")\n",
    "        path = policy.rollout(env)\n",
    "        ax.imshow(env.cost_map, cmap='Blues', alpha=0.3, origin='lower')\n",
    "        ax.imshow(env.risk_map, cmap='Reds', alpha=0.3, origin='lower')\n",
    "        ax.plot([p[0] for p in path], [p[1] for p in path], color='tab:green')\n",
    "        ax.set_title(f\"Map {idx}\")\n",
    "        ax.axis('off')\n",
    "    for j in range(idx + 1, len(axs)):\n",
    "        axs[j].axis('off')\n",
    "    plt.tight_layout()\n",
    "    if save:\n",
    "        plt.savefig(\"trajectories.png\", dpi=300)\n",
    "    plt.show()\n"
   ]
  },
  {
   "cell_type": "code",
   "execution_count": null,
   "id": "21f1ad3f",
   "metadata": {},
   "outputs": [],
   "source": [
    "\n",
    "def smooth(x, window=10):\n",
    "    return np.convolve(x, np.ones(window)/window, mode='valid')\n",
    "\n",
    "# plot mean ± std over multiple seeds with 95% CI shading\n",
    "def plot_mean_reward_curves(all_rewards, names, window=10):\n",
    "    colors = plt.cm.tab10.colors\n",
    "    plt.figure(figsize=(10,5))\n",
    "    for idx, (runs, name) in enumerate(zip(all_rewards, names)):\n",
    "        runs = np.array(runs)\n",
    "        mean = runs.mean(axis=0)\n",
    "        std = runs.std(axis=0)\n",
    "        ci = 1.96 * std / np.sqrt(runs.shape[0])\n",
    "        sm_mean = smooth(mean, window)\n",
    "        sm_ci = smooth(ci, window)\n",
    "        episodes = np.arange(len(sm_mean))\n",
    "        plt.plot(episodes, sm_mean, label=name, color=colors[idx], lw=2)\n",
    "        plt.fill_between(episodes, sm_mean - sm_ci, sm_mean + sm_ci, color=colors[idx], alpha=0.2)\n",
    "    plt.title('Training Reward Curves', fontsize=14)\n",
    "    plt.xlabel('Episode', fontsize=12)\n",
    "    plt.ylabel('External Reward', fontsize=12)\n",
    "    plt.legend()\n",
    "    plt.grid(True, linestyle='--', alpha=0.5)\n",
    "    plt.tight_layout()\n",
    "    plt.show()\n"
   ]
  },
  {
   "cell_type": "code",
   "execution_count": null,
   "id": "77687ff7",
   "metadata": {},
   "outputs": [],
   "source": [
    "\n",
    "def plot_grouped_bars(names, success, steps, planner_use, intrinsic):\n",
    "    metrics = [success, planner_use, steps, intrinsic]\n",
    "    labels = ['Success Rate (%)', 'Planner Usage (%)', 'Avg Steps', 'Avg Intrinsic']\n",
    "    x = np.arange(len(names))\n",
    "    width = 0.18\n",
    "    fig, ax = plt.subplots(figsize=(10,6))\n",
    "    for i, metric in enumerate(metrics):\n",
    "        means = [np.mean(m) * (100 if i < 2 else 1) for m in metric]\n",
    "        stds = [np.std(m) * (100 if i < 2 else 1) for m in metric]\n",
    "        ax.bar(x + (i-1.5)*width, means, width, yerr=stds, capsize=4, label=labels[i])\n",
    "    ax.set_xticks(x)\n",
    "    ax.set_xticklabels(names, rotation=30)\n",
    "    ax.set_ylabel('Value')\n",
    "    ax.set_title('Comparative Evaluation of Exploration Methods', fontsize=14)\n",
    "    ax.legend()\n",
    "    ax.grid(axis='y', linestyle='--', alpha=0.5)\n",
    "    plt.tight_layout()\n",
    "    plt.show()\n"
   ]
  },
  {
   "cell_type": "code",
   "execution_count": null,
   "id": "5feaee93",
   "metadata": {},
   "outputs": [],
   "source": [
    "\n",
    "def plot_generalization_results(names, clean_m, clean_s, noisy_m, noisy_s):\n",
    "    x = np.arange(len(names))\n",
    "    width = 0.35\n",
    "    fig, ax = plt.subplots(figsize=(8,5))\n",
    "    ax.bar(x - width/2, clean_m, width, yerr=clean_s, capsize=4, label='Clean', color='tab:blue')\n",
    "    ax.bar(x + width/2, noisy_m, width, yerr=noisy_s, capsize=4, label='Noisy', color='tab:orange')\n",
    "    ax.set_xticks(x)\n",
    "    ax.set_xticklabels(names, rotation=30)\n",
    "    ax.set_ylabel('Average Reward')\n",
    "    ax.set_title('Generalization Performance', fontsize=14)\n",
    "    ax.legend()\n",
    "    ax.grid(axis='y', linestyle='--', alpha=0.5)\n",
    "    plt.tight_layout()\n",
    "    plt.show()\n"
   ]
  },
  {
   "cell_type": "markdown",
   "id": "8787b501",
   "metadata": {},
   "source": [
    "### Usage Examples"
   ]
  },
  {
   "cell_type": "code",
   "execution_count": null,
   "id": "73af9ab7",
   "metadata": {},
   "outputs": [],
   "source": [
    "\n",
    "# Example: assuming we collected reward arrays for 3 seeds per model\n",
    "# reward_runs = [ [seed1_rewards, seed2_rewards, seed3_rewards], ... ]\n",
    "# plot_mean_reward_curves(reward_runs, model_names)\n",
    "\n",
    "# After training, evaluate generalization\n",
    "# plot_grouped_bars(model_names, success_rates, steps_to_goal, planner_usages, intrinsic_rewards)\n",
    "# plot_generalization_results(model_names, clean_means, clean_stds, noisy_means, noisy_stds)\n"
   ]
  }
 ],
 "metadata": {},
 "nbformat": 4,
 "nbformat_minor": 5
}
